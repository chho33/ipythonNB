{
 "cells": [
  {
   "cell_type": "code",
   "execution_count": null,
   "metadata": {
    "collapsed": false
   },
   "outputs": [],
   "source": [
    "#################連資料庫用\n",
    "def connect(dbname,password,host=\"localhost\",user=\"root\",port=3306):\n",
    "    import mysql.connector as mc \n",
    "    db = mc.connect(host=host,user=user,passwd=password,db=dbname,charset=\"utf8\")\n",
    "    return db\n",
    "def insert_news(db,category=None,title=None,newsDate=None,newsTime=None,journalist=None,content=None,hit=None,url=None,source=\"ETToday\"):\n",
    "    cur = db.cursor()\n",
    "    data = (category,title,newsDate,newsTime,journalist,content,hit,url,source)\n",
    "    cur.execute(\"insert into news(class,title,newsDate,newsTime,journalist,content,hit,url,source) values(%s,%s,%s,%s,%s,%s,%s,%s,%s)\",data)\n",
    "    db.commit()\n",
    "def insert_comments(db,commentDate,commentTime,commenter,commenterUrl,comment,url,remark=None):\n",
    "    cur = db.cursor()\n",
    "    x = (commentDate,commentTime,commenter,commenterUrl,comment,url)\n",
    "    cur.execute(\"insert into comments(commentDate,commentTime,commenter,commenterUrl,comment,url)values(%s,%s,%s,%s,%s,%s)\" ,x)\n",
    "    db.commit()\n",
    "def insert_newsRaw(db,category,url,newsRaw,source):\n",
    "    cur = db.cursor()\n",
    "    t = (category,url,newsRaw,source)\n",
    "    cur.execute(\"insert into newsRaw(`class`,url,newsRaw,source)values(%s,%s,%s,%s)\",t)\n",
    "    db.commit()\n",
    "def close(db):\n",
    "    db.close()\n",
    "#################連資料庫用\n",
    "import requests\n",
    "from bs4 import BeautifulSoup\n",
    "import time\n",
    "import re\n",
    "import traceback\n",
    "import csv\n",
    "loginurl=\"http://udndata.com/ndapp/member/MbFixLogin?708869834\"\n",
    "headers={\n",
    "'Accept':'text/html,application/xhtml+xml,application/xml;q=0.9,image/webp,*/*;q=0.8',\n",
    "'Accept-Encoding':'gzip, deflate, sdch',\n",
    "'Accept-Language':'en-US,en;q=0.8,zh-CN;q=0.6,zh;q=0.4',\n",
    "'Connection':'keep-alive',\n",
    "'Host':'udndata.com',\n",
    "'Referer':'http://udndata.com/library/',\n",
    "'User-Agent':'Mozilla/5.0 (Macintosh; Intel Mac OS X 10_9_5) AppleWebKit/537.36 (KHTML, like Gecko) Chrome/43.0.2357.124 Safari/537.36'\n",
    "}\n",
    "\n",
    "\n",
    "with open('檔案名稱', 'rb') as csvfile:\n",
    "    rows = csv.reader(csvfile, delimiter='\\n', quotechar='\\t')\n",
    "    for r in rows:\n",
    "        f=open(\"ecoerror.txt\",\"a\")\n",
    "        row=r[0].split(\"\\t\")[1]\n",
    "        category=r[0].split(\"\\t\")[0]\n",
    "        #print category, row\n",
    "        rs = requests.session()\n",
    "        rs.get(loginurl,headers=headers)\n",
    "        res=rs.get(row).text\n",
    "        conn=connect(dbname=\"ecodaily\",password=\"\",host=\"localhost\",user=\"root\",port=3306)\n",
    "        try :\n",
    "            insert_newsRaw(conn,category,row,res,\"Economoic Daily\")\n",
    "            close(conn)\n",
    "        except:\n",
    "            f.write('error: '+row+\"\\n\")\n",
    "            f.write( traceback.format_exc())\n",
    "        finally:\n",
    "            close(conn)\n",
    "        close(f)"
   ]
  },
  {
   "cell_type": "code",
   "execution_count": null,
   "metadata": {
    "collapsed": true
   },
   "outputs": [],
   "source": []
  }
 ],
 "metadata": {
  "kernelspec": {
   "display_name": "Python 2",
   "language": "python",
   "name": "python2"
  },
  "language_info": {
   "codemirror_mode": {
    "name": "ipython",
    "version": 2
   },
   "file_extension": ".py",
   "mimetype": "text/x-python",
   "name": "python",
   "nbconvert_exporter": "python",
   "pygments_lexer": "ipython2",
   "version": "2.7.9"
  }
 },
 "nbformat": 4,
 "nbformat_minor": 0
}
