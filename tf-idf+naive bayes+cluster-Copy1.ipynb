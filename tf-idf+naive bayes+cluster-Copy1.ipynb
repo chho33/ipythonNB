{
 "cells": [
  {
   "cell_type": "markdown",
   "metadata": {},
   "source": [
    "## Gaussian Naive Bayes"
   ]
  },
  {
   "cell_type": "markdown",
   "metadata": {},
   "source": [
    "#####Nominal: P(lsi|class)=(lsis_in_class + 1)/(lsis_in_class+total_unique_words_in_class)  \n",
    "#####Continuous: P(lsi|class)=高斯分布機率(帶入平均數與標準差)"
   ]
  },
  {
   "cell_type": "code",
   "execution_count": 29,
   "metadata": {
    "collapsed": true
   },
   "outputs": [],
   "source": [
    "#一些需要的function\n",
    "import numpy as np\n",
    "def gauss(x,m,s):\n",
    "    e=-(x-m)**2/(2*(s**2))\n",
    "    g=1*np.exp(e)/(2*s*np.pi)**0.5\n",
    "    return g\n",
    "\n",
    "def remove_punc(sentences):\n",
    "    import string \n",
    "    import re\n",
    "    delEStr = '['+string.punctuation + u' '+']'\n",
    "    delCStr = u'''[〔△〇◎◆●✦×→°☆■□◆●○๏••‧㊣℃ˍ╴←↑→．│﹙“—▲►★《》ΟΔΧ╳（）()∫&%﹪￥#@$！?,.…><*{}｢｣\\\\∼〈〉¬﹄•∼■`\"’“×※【】  ’'　、。，‧．·‧‧：︰十；”～‘’′→＠＃＄％︿＆＊｀＝－—─＋｜／＼╲╱╱ ╱╱？『』」「\\/]'''\n",
    "    s=[]\n",
    "    for sentence in sentences:\n",
    "        if type(sentence)==unicode:\n",
    "            sentence=re.sub(delEStr,u'',sentence)\n",
    "            sentence=re.sub(delCStr,u'',sentence)\n",
    "            s.append(sentence.encode('utf-8'))\n",
    "        else:\n",
    "            sentence=re.sub(delEStr,u'',sentence.decode('utf-8'))\n",
    "            sentence=re.sub(delCStr,u'',sentence)\n",
    "            s.append(sentence.encode('utf-8'))\n",
    "    return s  \n",
    "\n",
    "\n",
    "def replace_punc(sentences):\n",
    "    import string \n",
    "    import re\n",
    "    delEStr = '['+string.punctuation + u' '+']'\n",
    "    delCStr = u'''[〔△〇◎◆●✦×→°☆■□◆●○๏••‧㊣℃ˍ╴←↑→．│﹙“—▲►★《》ΟΔΧ╳（）()∫&%﹪￥#@$！?,.…><*{}｢｣\\\\∼〈〉¬﹄•∼■`\"’“×※【】  ’'　、。，‧．·‧‧：︰十；”～‘’′→＠＃＄％︿＆＊｀＝－—─＋｜／＼╲╱╱ ╱╱？『』」「\\/]'''\n",
    "    s=[]\n",
    "    for sentence in sentences:\n",
    "        if type(sentence)==unicode:\n",
    "            sentence=re.sub(delEStr,u' ',sentence)\n",
    "            sentence=re.sub(delCStr,u' ',sentence).encode('utf-8')\n",
    "            sentence=sentence.split(\",\")\n",
    "            #s.append(sentence.encode('utf-8'))\n",
    "            s.append(sentence)\n",
    "        else:\n",
    "            sentence=re.sub(delEStr,u' ',sentence.decode('utf-8'))\n",
    "            sentence=re.sub(delCStr,u' ',sentence).encode('utf-8')\n",
    "            sentence=sentence.split(\",\")\n",
    "            #s.append(sentence.encode('utf-8'))\n",
    "            s.append(sentence)\n",
    "    return s[0]"
   ]
  },
  {
   "cell_type": "markdown",
   "metadata": {
    "collapsed": true
   },
   "source": [
    "## database version"
   ]
  },
  {
   "cell_type": "code",
   "execution_count": 131,
   "metadata": {
    "collapsed": false
   },
   "outputs": [
    {
     "name": "stderr",
     "output_type": "stream",
     "text": [
      "Building prefix dict from /usr/local/lib/python2.7/site-packages/jieba/dictbig.txt ...\n",
      "DEBUG:jieba:Building prefix dict from /usr/local/lib/python2.7/site-packages/jieba/dictbig.txt ...\n",
      "Loading model from cache /var/folders/pn/qc_lny8n1cv6pt_2tqlg4s6m0000gn/T/jieba.u91a3eae8b085aaf1cd1517c2fdfc2047.cache\n",
      "DEBUG:jieba:Loading model from cache /var/folders/pn/qc_lny8n1cv6pt_2tqlg4s6m0000gn/T/jieba.u91a3eae8b085aaf1cd1517c2fdfc2047.cache\n",
      "Loading model cost 1.141 seconds.\n",
      "DEBUG:jieba:Loading model cost 1.141 seconds.\n",
      "Prefix dict has been built succesfully.\n",
      "DEBUG:jieba:Prefix dict has been built succesfully.\n"
     ]
    },
    {
     "name": "stdout",
     "output_type": "stream",
     "text": [
      "0.00278200000002\n"
     ]
    }
   ],
   "source": [
    "# 逐行從資料庫提出文章>斷詞\n",
    "import MySQLdb as mc\n",
    "import MySQLdb.cursors\n",
    "import traceback\n",
    "import jieba\n",
    "import jieba.analyse\n",
    "from gensim import corpora, models, similarities\n",
    "import json\n",
    "import time \n",
    "\n",
    "############# 基本參數設定 ###############\n",
    "db=\"ecodaily3\"\n",
    "passwd=\"\"\n",
    "########################################\n",
    "\n",
    "jieba.set_dictionary('/usr/local/lib/python2.7/site-packages/jieba/dictbig.txt')\n",
    "jieba.load_userdict(\"userdict.txt\")\n",
    "conn=mc.connect(host='localhost',user='root',passwd='',db=db,charset=\"utf8\",cursorclass = MySQLdb.cursors.SSCursor)\n",
    "cur=conn.cursor()\n",
    "sql='select content from news2'\n",
    "cur.execute(sql)\n",
    "f=open('/Users/jojotenya/Desktop/gensim/test.txt','a')\n",
    "texts=cur.fetchone()\n",
    "s=open('/Users/jojotenya/Desktop/gensim/stopword.txt',\"r\")\n",
    "stoplist=[]\n",
    "for stop in s.readlines():\n",
    "    stoplist.append(stop.strip())\n",
    "s.close()\n",
    "stoplist=set(stoplist)\n",
    "while texts is not None:\n",
    "    words = jieba.cut(replace_punc([texts[0]])[0], cut_all=False)\n",
    "    sentence=[]\n",
    "    for w in words:\n",
    "        if len(w.strip())<=1:\n",
    "            continue\n",
    "        elif w.encode('utf-8') in stoplist:\n",
    "            #print \"stop: \", w\n",
    "            continue\n",
    "        else:\n",
    "            #print \"enter: \",w\n",
    "            sentence.append(w)\n",
    "    feed=(' '.join(sentence)).encode('utf-8')\n",
    "    f.write(feed)\n",
    "    f.write(\"\\n\")\n",
    "    texts=cur.fetchone()\n",
    "\n",
    "cur.close()\n",
    "conn.close()\n",
    "f.close()\n",
    "\n",
    "\n",
    "#轉換斷詞為純數字vector，生成dictionary詞庫、詞頻統計\n",
    "#stoplist=[]\n",
    "dictionary = corpora.Dictionary(line.split() for line in open('/Users/jojotenya/Desktop/gensim/test.txt'))\n",
    "#stop_ids=[]\n",
    "#for stopword in stoplist:\n",
    "#    if stopword.decode('utf-8') in dictionary.token2id:\n",
    "#        stop_ids.append(stopword.decode('utf-8'))\n",
    "#once_ids = [tokenid for tokenid, docfreq in dictionary.dfs.iteritems() if docfreq == 1]\n",
    "#once_ids = []\n",
    "#dictionary.filter_tokens(stop_ids + once_ids) # remove stop words and words that appear only once\n",
    "#dictionary.filter_tokens(set(stop_ids))\n",
    "#dictionary.compactify()\n",
    "dictionary.save('/Users/jojotenya/Desktop/gensim/test.dict')\n",
    "\n",
    "class MyCorpus(object):\n",
    "    def __iter__(self):\n",
    "        for line in open('/Users/jojotenya/Desktop/gensim/test.txt'):\n",
    "            yield dictionary.doc2bow(line.split())\n",
    "corpus = MyCorpus() \n",
    "corpora.MmCorpus.serialize('/Users/jojotenya/Desktop/gensim/test.mm', corpus)\n",
    "\n",
    "'''for c in corpus_to_use:\n",
    "    print json.dumps(c,ensure_ascii=False)'''\n",
    "\n",
    "#做tfidf，將斷詞編號依照vector轉換回原本的詞，一同將詞與權重存入database\n",
    "#Lsi降維，將各topic與權重存入database\n",
    "#print json.dumps(dictionary.token2id, encoding=\"utf-8\", ensure_ascii=False)\n",
    "##no update：\n",
    "#dictionary=corpora.Dictionary.load('/Users/jojotenya/Desktop/test.dict')\n",
    "#corpus=corpora.MmCorpus('/Users/jojotenya/Desktop/test.dict')\n",
    "tfidf = models.TfidfModel(corpus)\n",
    "corpus_tfidf = tfidf[corpus]\n",
    "t=[]\n",
    "for doc in corpus_tfidf:\n",
    "     t.append([[dictionary.token2id.keys()[dictionary.token2id.values().index(d[0])],d[1]] for d in doc])      \n",
    "lsi = models.LsiModel(corpus_tfidf, id2word=dictionary, num_topics=10)\n",
    "lsi.save('/Users/jojotenya/Desktop/gensim/test.lsi')\n",
    "corpus_lsi = lsi[corpus_tfidf]\n",
    "l=[]\n",
    "\n",
    "c=[]\n",
    "for doc in corpus:\n",
    "     c.append([d[1] for d in doc])\n",
    "\n",
    "for i in xrange(0,60):\n",
    "    for j in xrange(0,len(t[i])):\n",
    "        t[i][j].append(c[i][j])\n",
    "\n",
    "for c_lsi in corpus_lsi:\n",
    "    l.append(c_lsi)       \n",
    "        \n",
    "try:\n",
    "    conn=mc.connect(host='localhost',user='root',passwd='',db=db,charset=\"utf8\",cursorclass = MySQLdb.cursors.SSCursor)\n",
    "    cur=conn.cursor()\n",
    "    sql='select newsID from news2'\n",
    "    cur.execute(sql)\n",
    "    row=cur.fetchone()\n",
    "\n",
    "    conn2=mc.connect(host='localhost',user='root',passwd='',db=db,charset=\"utf8\")\n",
    "    conn2.query('SET autocommit=TRUE;')\n",
    "    cur2=conn2.cursor()\n",
    "    conn3=mc.connect(host='localhost',user='root',passwd='',db=db,charset=\"utf8\")\n",
    "    conn3.query('SET autocommit=TRUE;')\n",
    "    cur3=conn3.cursor()\n",
    "    #print json.dumps(t[i],ensure_ascii=False)\n",
    "    i=0\n",
    "    while row is not None:    \n",
    "        for s in t[i]:  \n",
    "            data=(int(row[0]),s[0],s[1],s[2])\n",
    "            cur2.execute('insert into keywords(keyid,term,weight,freq) values(%s,%s,%s,%s)',data)\n",
    "            #conn2.commit()\n",
    "        for c in l[i]: \n",
    "            data=(int(row[0]),c[0],c[1])\n",
    "            cur3.execute('insert into lsi(lsiid,topic,weight) values(%s,%s,%s)',data)\n",
    "            #conn3.commit()\n",
    "        i+=1\n",
    "        row=cur.fetchone()\n",
    "except:\n",
    "    print traceback.format_exc()\n",
    "\n",
    "finally:\n",
    "    cur.close()\n",
    "    conn.close()\n",
    "    cur2.close()\n",
    "    conn2.close()\n",
    "    cur3.close()\n",
    "    conn3.close()\n",
    "        \n",
    "\n",
    "#每個分類的lsi-mu,lsi-sigma\n",
    "a= time.clock()\n",
    "conn=mc.connect(host='localhost',user='root',passwd='',\n",
    "                db=db,charset=\"utf8\",cursorclass = MySQLdb.cursors.SSCursor)\n",
    "cur=conn.cursor()\n",
    "cur.execute('select distinct(`class`) from news2')\n",
    "categories=cur.fetchall()\n",
    "\n",
    "conn2=mc.connect(host='localhost',user='root',passwd='',\n",
    "                db=db,charset=\"utf8\",cursorclass = MySQLdb.cursors.SSCursor)\n",
    "conn2.query('SET autocommit=TRUE;')\n",
    "cur2=conn2.cursor()\n",
    "\n",
    "for i in xrange(0,len(categories)):\n",
    "    cur.execute('select topic,AVG(weight),STD(weight) from lsi where lsiid in \\\n",
    "                (select newsID from news2 where `class` = %s) \\\n",
    "                GROUP BY topic',categories[i])\n",
    "    result=cur.fetchone()\n",
    "    while result is not None:\n",
    "        data=(categories[i],result[0],result[1],result[2])\n",
    "        cur2.execute('insert into lsiStatistic(`class`,topic,mean,std) value(%s,%s,%s,%s)',data)\n",
    "        #conn2.commit()\n",
    "        result=cur.fetchone()\n",
    "\n",
    "cur.close()\n",
    "conn.close()\n",
    "cur2.close()\n",
    "conn2.close()\n",
    "print time.clock()-a\n"
   ]
  },
  {
   "cell_type": "markdown",
   "metadata": {
    "collapsed": false
   },
   "source": [
    "####分類"
   ]
  },
  {
   "cell_type": "code",
   "execution_count": null,
   "metadata": {
    "collapsed": false
   },
   "outputs": [],
   "source": [
    "#從資料庫提出要分類的文章的每一個lsi topic，計算其屬於不同類別的gauss機率(可設定低於一定數值以下的歸類為其他)\n",
    "conn=mc.connect(host='localhost',user='root',passwd='',\n",
    "                db=db,charset=\"utf8\",cursorclass = MySQLdb.cursors.SSCursor)\n",
    "cur=conn.cursor()\n",
    "categories=[\"國際\",\"兩岸\"]   # class which want to reclass\n",
    "cur.execute('select distinct(`class`) from lsiStatistic')\n",
    "lsicats=[item[0] for item in cur.fetchall()]\n",
    "#print json.dumps(lsicats,ensure_ascii=False)\n",
    "for i in xrange(0,len(categories)):\n",
    "    cur.execute('select newsID from news2 where `class` = %s;', (categories[i],))\n",
    "    ID=[item[0] for item in cur.fetchall()]\n",
    "    conn2=mc.connect(host='localhost',user='root',passwd='',\n",
    "                    db=db,charset=\"utf8\",cursorclass = MySQLdb.cursors.SSCursor)\n",
    "    cur2=conn2.cursor()\n",
    "    conn3=mc.connect(host='localhost',user='root',passwd='',\n",
    "                    db=db,charset=\"utf8\",cursorclass = MySQLdb.cursors.SSCursor)\n",
    "    cur3=conn3.cursor()\n",
    "    conn4=mc.connect(host='localhost',user='root',passwd='',\n",
    "                    db=db,charset=\"utf8\",cursorclass = MySQLdb.cursors.SSCursor)\n",
    "    conn4.query('SET autocommit=TRUE;')\n",
    "    cur4=conn4.cursor()\n",
    "    for n in ID:\n",
    "        try:\n",
    "            print n\n",
    "            cur2.execute('select weight from lsi where lsiid=%s',(n,))\n",
    "            forlsicat=[item[0] for item in cur2.fetchall()]  #lsiweight for comparing to lsiStatistic\n",
    "            print forlsicat\n",
    "            allgauss={}\n",
    "            for cat in lsicats:        \n",
    "                cur3.execute('select mean,std from lsiStatistic where `class` = %s',(cat,))\n",
    "                inoneclass=cur3.fetchall()\n",
    "                #print inoneclass\n",
    "                ini=1\n",
    "                \n",
    "                for m in xrange(0,len(inoneclass)):\n",
    "                    ini=ini*gauss(forlsicat[m],inoneclass[m][0],inoneclass[m][1])\n",
    "                allgauss[cat]=ini\n",
    "            print json.dumps(allgauss,ensure_ascii=False)\n",
    "            reclass=allgauss.keys()[allgauss.values().index(max(allgauss.values()))]\n",
    "            print reclass\n",
    "            cur4.execute('update news2 set reclass= %s where newsid =%s',(reclass,n))\n",
    "            #conn4.commit()\n",
    "        except:\n",
    "            pass\n",
    "    cur2.close()\n",
    "    conn2.close()\n",
    "    cur3.close()\n",
    "    conn3.close()\n",
    "    cur4.close()\n",
    "    conn4.close()\n",
    "\n",
    "cur.close()\n",
    "conn.close()\n",
    "#判斷是何種新聞類別後更新類別欄位reclass"
   ]
  },
  {
   "cell_type": "markdown",
   "metadata": {
    "collapsed": true
   },
   "source": [
    "####分群"
   ]
  },
  {
   "cell_type": "code",
   "execution_count": null,
   "metadata": {
    "collapsed": false
   },
   "outputs": [],
   "source": [
    "#將同一類別新聞們分群\n",
    "import MySQLdb as mc\n",
    "import MySQLdb.cursors\n",
    "from sklearn.feature_extraction.text import CountVectorizer\n",
    "from sklearn.feature_extraction.text import HashingVectorizer\n",
    "from sklearn.feature_extraction.text import TfidfTransformer\n",
    "from sklearn.metrics.pairwise import linear_kernel\n",
    "from sklearn.decomposition import PCA\n",
    "from sklearn.decomposition import RandomizedPCA\n",
    "\n",
    "conn=mc.connect(host='localhost',user='root',passwd='',db=db,charset=\"utf8\",cursorclass = MySQLdb.cursors.SSCursor)\n",
    "cur=conn.cursor()\n",
    "conn2=mc.connect(host='localhost',user='root',passwd='',db=db,charset=\"utf8\",cursorclass = MySQLdb.cursors.SSCursor)\n",
    "conn2.query('SET autocommit=TRUE;')\n",
    "cur2=conn2.cursor()\n",
    "sql='select distinct(reclass) from news2'\n",
    "cur.execute(sql)\n",
    "reclass=cur.fetchall()\n",
    "\n",
    "for re in reclass:\n",
    "    corpus=[]\n",
    "    cur.execute('select content from news2 where reclass=%s',(re,))\n",
    "    texts=cur.fetchone()\n",
    "    while texts is not None:\n",
    "        words = jieba.cut(remove_punc([texts[0]])[0], cut_all=False)\n",
    "        sentence=[]\n",
    "        for w in words:\n",
    "            if len(w)==1:\n",
    "                pass\n",
    "            else:\n",
    "                sentence.append(w)\n",
    "        feed=(' '.join(sentence)).encode('utf-8')\n",
    "        corpus.append(feed)\n",
    "        texts=cur.fetchone()\n",
    "    vectorizer = HashingVectorizer(n_features=2**18) \n",
    "    X = vectorizer.fit_transform(corpus)\n",
    "    transformer = TfidfTransformer()\n",
    "    tfidf = transformer.fit_transform(X)\n",
    "    weight = tfidf.toarray()    \n",
    "\n",
    "    n_cosine_similarities = linear_kernel(tfidf, tfidf)\n",
    "    from sklearn import cluster\n",
    "    c = cluster.KMeans(n_cosine_similarities,3)\n",
    "    #c = cluster.AffinityPropagation(n_cosine_similarities)\n",
    "    #print c.n_clusters\n",
    "\n",
    "    import numpy as np\n",
    "    from sklearn.decomposition import PCA\n",
    "    from sklearn.decomposition import RandomizedPCA\n",
    "    pca = PCA(n_components=2)\n",
    "    pca_data = pca.fit_transform(n_cosine_similarities)\n",
    "\n",
    "    #a = pca.fit(n_cosine_similarities)\n",
    "    #print a\n",
    "    #print pca_data.shape\n",
    "    param = [{'model':cluster.KMeans(n_clusters=4),\n",
    "              'title':'KMeans'}]\n",
    "    param = [{'model':cluster.MiniBatchKMeans(),\n",
    "              'title':'AffinityPropagation'}]\n",
    "    c = param[0]['model']\n",
    "    k_data = c.fit_predict(n_cosine_similarities)\n",
    "    #k_data = c.predict(n_cosine_similarities)\n",
    "    cur2.execute('select newsID from news2 where reclass=%s',(re,))\n",
    "    ID=cur2.fetchall()\n",
    "    writeback=[]\n",
    "    for k in k_data:\n",
    "        writeback.append(re[0]+str(k))\n",
    "    print json.dumps(writeback,ensure_ascii=False)\n",
    "    \n",
    "    for i,j in enumerate(ID):\n",
    "        cur2.execute('update news2 set cluster= %s where newsid =%s',(re[0]+str(k_data[i]),j))\n",
    "\n",
    "\n",
    "        \n",
    "    #之後文字雲依照分類(m個)＋分群(n個)就可以有m*n個變化\n",
    "    \n",
    "cur.close()\n",
    "conn.close()\n",
    "cur2.close()\n",
    "conn2.close()"
   ]
  },
  {
   "cell_type": "code",
   "execution_count": 115,
   "metadata": {
    "collapsed": false
   },
   "outputs": [
    {
     "name": "stdout",
     "output_type": "stream",
     "text": [
      "(60,)\n"
     ]
    },
    {
     "data": {
      "text/plain": [
       "<matplotlib.text.Text at 0x11cd9a790>"
      ]
     },
     "execution_count": 115,
     "metadata": {},
     "output_type": "execute_result"
    },
    {
     "data": {
      "image/png": "[encoded data removed]",
      "text/plain": [
       "<matplotlib.figure.Figure at 0x11d065510>"
      ]
     },
     "metadata": {},
     "output_type": "display_data"
    }
   ],
   "source": [
    "print k_data.shape\n",
    "#print c.inertia_\n",
    "#print c.cluster_centers_indices_\n",
    "%matplotlib inline\n",
    "from matplotlib import pyplot as plt\n",
    "fig, axes = plt.subplots(ncols=1, nrows=1,figsize=(10,5))  # figsize: graph size\n",
    "axes.scatter(pca_data[:,0], pca_data[:,1], c=['rgbyc'[i] for i in k_data ], s=150)\n",
    "axes.set_title(param[0]['title'])\n"
   ]
  },
  {
   "cell_type": "code",
   "execution_count": null,
   "metadata": {
    "collapsed": true
   },
   "outputs": [],
   "source": []
  },
  {
   "cell_type": "markdown",
   "metadata": {},
   "source": [
    "##non-database vsrsion"
   ]
  },
  {
   "cell_type": "code",
   "execution_count": null,
   "metadata": {
    "collapsed": false
   },
   "outputs": [],
   "source": [
    "# 逐行從資料庫提出文章>斷詞\n",
    "import MySQLdb as mc\n",
    "import MySQLdb.cursors\n",
    "import traceback\n",
    "import jieba\n",
    "import jieba.analyse\n",
    "from gensim import corpora, models, similarities\n",
    "import json\n",
    "\n",
    "conn=mc.connect(host='localhost',user='root',passwd='',db=db,charset=\"utf8\")\n",
    "cur=conn.cursor()\n",
    "sql='select content from news2'\n",
    "cur.execute(sql)\n",
    "f=open('/Users/jojotenya/Desktop/test.txt','a')\n",
    "texts=cur.fetchone()\n",
    "while texts is not None:\n",
    "    words = jieba.cut(remove_punc([texts[0]])[0], cut_all=False)\n",
    "    sentence=[]\n",
    "    for w in words:\n",
    "        if len(w)==1:\n",
    "            pass\n",
    "        else:\n",
    "            sentence.append(w)\n",
    "    feed=(' '.join(sentence)).encode('utf-8')\n",
    "    f.write(feed)\n",
    "    f.write(\"\\n\")\n",
    "    texts=cur.fetchone()\n",
    "\n",
    "cur.close()\n",
    "conn.close()\n",
    "f.close()\n",
    "\n",
    "\n",
    "#轉換斷詞為純數字vector，生成dictionary詞庫、詞頻統計\n",
    "stoplist=[]\n",
    "dictionary = corpora.Dictionary(line.split() for line in open('/Users/jojotenya/Desktop/gensim/test.txt'))\n",
    "stop_ids = [dictionary.token2id[stopword] for stopword in stoplist if stopword in dictionary.token2id]\n",
    "once_ids = [tokenid for tokenid, docfreq in dictionary.dfs.iteritems() if docfreq == 1]\n",
    "dictionary.filter_tokens(stop_ids + once_ids) # remove stop words and words that appear only once\n",
    "dictionary.compactify() # remove gaps in id sequence after words that were removed\n",
    "dictionary.save('/Users/jojotenya/Desktop/gensim/test.dict')\n",
    "\n",
    "class MyCorpus(object):\n",
    "    def __iter__(self):\n",
    "        for line in open('/Users/jojotenya/Desktop/gensim/test.txt'):\n",
    "            yield dictionary.doc2bow(line.split())\n",
    "corpus = MyCorpus() \n",
    "corpora.MmCorpus.serialize('/Users/jojotenya/Desktop/gensim/test.mm', corpus)\n",
    "\n",
    "'''for c in corpus_to_use:\n",
    "    print json.dumps(c,ensure_ascii=False)'''\n",
    "\n",
    "#做tfidf，將斷詞編號依照vector轉換回原本的詞，一同將詞與權重存入database\n",
    "#Lsi降維，將各topic與權重存入database\n",
    "#print json.dumps(dictionary.token2id, encoding=\"utf-8\", ensure_ascii=False)\n",
    "##no update：\n",
    "#dictionary=corpora.Dictionary.load('/Users/jojotenya/Desktop/test.dict')\n",
    "#corpus=corpora.MmCorpus('/Users/jojotenya/Desktop/test.dict')\n",
    "tfidf = models.TfidfModel(corpus)\n",
    "corpus_tfidf = tfidf[corpus]\n",
    "\n",
    "lsi = models.LsiModel(corpus_tfidf, id2word=dictionary, num_topics=10)\n",
    "lsi.save('/Users/jojotenya/Desktop/gensim/test.lsi')\n",
    "\n",
    "        \n",
    "\n",
    "\n",
    "#Lsi降維，將各topic與權重存入database\n",
    "\n",
    "\n",
    "#每個分類的lsi-mu\n",
    "\n",
    "#lsi_list = select * from table_name where class == class_name\n",
    "\n",
    "#每個分類的lsi-sigma\n"
   ]
  },
  {
   "cell_type": "code",
   "execution_count": null,
   "metadata": {
    "collapsed": false
   },
   "outputs": [],
   "source": []
  },
  {
   "cell_type": "code",
   "execution_count": 220,
   "metadata": {
    "collapsed": false
   },
   "outputs": [],
   "source": [
    "###分類"
   ]
  },
  {
   "cell_type": "code",
   "execution_count": null,
   "metadata": {
    "collapsed": true
   },
   "outputs": [],
   "source": [
    "#從資料庫提出要分類的文章的每一個lsi topic，計算其屬於不同類別的gauss機率(可設定低於一定數值以下的歸類為其他)\n",
    "\n",
    "\n",
    "#判斷是何種新聞類別後更新類別欄位reclass"
   ]
  },
  {
   "cell_type": "code",
   "execution_count": null,
   "metadata": {
    "collapsed": true
   },
   "outputs": [],
   "source": [
    "###分群"
   ]
  },
  {
   "cell_type": "code",
   "execution_count": null,
   "metadata": {
    "collapsed": true
   },
   "outputs": [],
   "source": [
    "#將同一類別新聞們分群\n",
    "\n",
    "\n",
    "\n",
    "#之後文字雲依照分類(m個)＋分群(n個)就可以有m*n個變化"
   ]
  },
  {
   "cell_type": "code",
   "execution_count": 161,
   "metadata": {
    "collapsed": false
   },
   "outputs": [],
   "source": []
  },
  {
   "cell_type": "code",
   "execution_count": null,
   "metadata": {
    "collapsed": false
   },
   "outputs": [],
   "source": []
  },
  {
   "cell_type": "code",
   "execution_count": 399,
   "metadata": {
    "collapsed": false
   },
   "outputs": [
    {
     "name": "stderr",
     "output_type": "stream",
     "text": [
      "WARNING:gensim.models.lsimodel:no word id mapping provided; initializing from corpus, assuming identity\n",
      "WARNING:gensim.similarities.docsim:scanning corpus to determine the number of features (consider setting `num_features` explicitly)\n"
     ]
    },
    {
     "name": "stdout",
     "output_type": "stream",
     "text": [
      "[(893, 1), (1023, 1), (1843, 1), (3063, 1), (3252, 1), (3297, 1), (3431, 1)]\n",
      "[  9.34107780e-01  -3.72529030e-09   5.82285598e-02  -7.45058060e-09\n",
      "   7.45058060e-09   5.30525334e-02  -3.25962901e-09   9.31322575e-09\n",
      "  -1.49011612e-08   2.23517418e-08   1.25495687e-01   1.29043460e-01\n",
      "   1.12457119e-01   6.57337755e-02   1.33285999e-01   4.79213111e-02\n",
      "   7.17962757e-02   0.00000000e+00   0.00000000e+00   7.45058060e-09\n",
      "   4.10835892e-02   7.45058060e-09   0.00000000e+00   1.30365416e-01\n",
      "   6.66237026e-02   2.02746108e-01   5.80376536e-02   3.72529030e-09\n",
      "   8.41709599e-02   2.98023224e-08  -7.45058060e-09   7.45058060e-09\n",
      "   1.11758709e-08  -7.45058060e-09   0.00000000e+00   1.86264515e-09\n",
      "  -3.72529030e-09  -2.23517418e-08  -2.23517418e-08  -3.72529030e-09\n",
      "   3.88897434e-02   7.45058060e-09   1.86264515e-08   1.35881931e-01\n",
      "   3.72529030e-09   1.49011612e-08   0.00000000e+00   1.11758709e-08\n",
      "   0.00000000e+00  -7.45058060e-09   0.00000000e+00   6.65191785e-02\n",
      "  -3.72529030e-09   1.78431794e-02  -1.49011612e-08  -1.49011612e-08\n",
      "   1.08832031e-01   3.72529030e-09   6.19750805e-02   3.99521627e-02\n",
      "   9.34107780e-01  -3.72529030e-09   5.82285598e-02  -7.45058060e-09\n",
      "   7.45058060e-09   5.30525334e-02  -3.25962901e-09   9.31322575e-09\n",
      "  -1.49011612e-08   2.23517418e-08   1.25495687e-01   1.29043460e-01\n",
      "   1.12457119e-01   6.57337755e-02   1.33285999e-01   4.79213111e-02\n",
      "   7.17962757e-02   0.00000000e+00   0.00000000e+00   7.45058060e-09\n",
      "   4.10835892e-02   7.45058060e-09   0.00000000e+00   1.30365416e-01\n",
      "   6.66237026e-02   2.02746108e-01   5.80376536e-02   3.72529030e-09\n",
      "   8.41709599e-02   2.98023224e-08  -7.45058060e-09   7.45058060e-09\n",
      "   1.11758709e-08  -7.45058060e-09   0.00000000e+00   1.86264515e-09\n",
      "  -3.72529030e-09  -2.23517418e-08  -2.23517418e-08  -3.72529030e-09\n",
      "   3.88897434e-02   7.45058060e-09   1.86264515e-08   1.35881931e-01\n",
      "   3.72529030e-09   1.49011612e-08   0.00000000e+00   1.11758709e-08\n",
      "   0.00000000e+00  -7.45058060e-09   0.00000000e+00   6.65191785e-02\n",
      "  -3.72529030e-09   1.78431794e-02  -1.49011612e-08  -1.49011612e-08\n",
      "   1.08832031e-01   3.72529030e-09   6.19750805e-02   3.99521627e-02]\n",
      "  (0, 0)\t0.934108\n",
      "  (0, 1)\t-3.72529e-09\n",
      "  (0, 2)\t0.0582286\n",
      "  (0, 3)\t-7.45058e-09\n",
      "  (0, 4)\t7.45058e-09\n",
      "  (0, 5)\t0.0530525\n",
      "  (0, 6)\t-3.25963e-09\n",
      "  (0, 7)\t9.31323e-09\n",
      "  (0, 8)\t-1.49012e-08\n",
      "  (0, 9)\t2.23517e-08\n",
      "  (0, 10)\t0.125496\n",
      "  (0, 11)\t0.129043\n",
      "  (0, 12)\t0.112457\n",
      "  (0, 13)\t0.0657338\n",
      "  (0, 14)\t0.133286\n",
      "  (0, 15)\t0.0479213\n",
      "  (0, 16)\t0.0717963\n",
      "  (0, 19)\t7.45058e-09\n",
      "  (0, 20)\t0.0410836\n",
      "  (0, 21)\t7.45058e-09\n",
      "  (0, 23)\t0.130365\n",
      "  (0, 24)\t0.0666237\n",
      "  (0, 25)\t0.202746\n",
      "  (0, 26)\t0.0580377\n",
      "  (0, 27)\t3.72529e-09\n",
      "  :\t:\n",
      "  (0, 91)\t7.45058e-09\n",
      "  (0, 92)\t1.11759e-08\n",
      "  (0, 93)\t-7.45058e-09\n",
      "  (0, 95)\t1.86265e-09\n",
      "  (0, 96)\t-3.72529e-09\n",
      "  (0, 97)\t-2.23517e-08\n",
      "  (0, 98)\t-2.23517e-08\n",
      "  (0, 99)\t-3.72529e-09\n",
      "  (0, 100)\t0.0388897\n",
      "  (0, 101)\t7.45058e-09\n",
      "  (0, 102)\t1.86265e-08\n",
      "  (0, 103)\t0.135882\n",
      "  (0, 104)\t3.72529e-09\n",
      "  (0, 105)\t1.49012e-08\n",
      "  (0, 107)\t1.11759e-08\n",
      "  (0, 109)\t-7.45058e-09\n",
      "  (0, 111)\t0.0665192\n",
      "  (0, 112)\t-3.72529e-09\n",
      "  (0, 113)\t0.0178432\n",
      "  (0, 114)\t-1.49012e-08\n",
      "  (0, 115)\t-1.49012e-08\n",
      "  (0, 116)\t0.108832\n",
      "  (0, 117)\t3.72529e-09\n",
      "  (0, 118)\t0.0619751\n",
      "  (0, 119)\t0.0399522\n"
     ]
    }
   ],
   "source": [
    "#cosine similarity: tfidf version\n",
    "corpus = corpora.MmCorpus('/Users/jojotenya/Desktop/gensim/test.mm')\n",
    "tfidf = models.TfidfModel(corpus)\n",
    "corpus_tfidf = tfidf[corpus]\n",
    "lsi=models.LsiModel(corpus_tfidf)\n",
    "dictionary=corpora.Dictionary.load('/Users/jojotenya/Desktop/gensim/test.dict')\n",
    "doc = \"美國 現任 以及 前總統 卡特 任內 兩位 財政部 助理部長\"\n",
    "vec_bow = dictionary.doc2bow(doc.split())\n",
    "print (vec_bow)\n",
    "vec_lsi = lsi[vec_bow] # convert the query to LSI space\n",
    "index = similarities.MatrixSimilarity(lsi[corpus_tfidf])\n",
    "index.save('/Users/jojotenya/Desktop/gensim/test.index')\n",
    "#index = similarities.MatrixSimilarity.load('/Users/jojotenya/Desktop/test.index')\n",
    "sims = index[vec_lsi]\n",
    "print sims\n",
    "from scipy import sparse\n",
    "print sparse.csr_matrix(sims)\n",
    "sims = sorted(enumerate(sims), key=lambda item: -item[1])\n",
    "\n"
   ]
  },
  {
   "cell_type": "code",
   "execution_count": 422,
   "metadata": {
    "collapsed": false
   },
   "outputs": [
    {
     "name": "stderr",
     "output_type": "stream",
     "text": [
      "WARNING:gensim.models.lsimodel:no word id mapping provided; initializing from corpus, assuming identity\n",
      "WARNING:gensim.similarities.docsim:scanning corpus to determine the number of features (consider setting `num_features` explicitly)\n"
     ]
    }
   ],
   "source": [
    "#cosine similarity: no tfidf version\n",
    "corpus = corpora.MmCorpus('/Users/jojotenya/Desktop/gensim/test.mm')\n",
    "lsi=models.LsiModel(corpus)  \n",
    "dictionary=corpora.Dictionary.load('/Users/jojotenya/Desktop/gensim/test.dict')\n",
    "doc = \"美國 現任 以及 前總統 卡特 任內 兩位 財政部 助理部長\"\n",
    "vec_bow = dictionary.doc2bow(doc.split())\n",
    "vec_lsi = lsi[vec_bow] # convert the query to LSI space\n",
    "index = similarities.MatrixSimilarity(lsi[corpus])\n",
    "index.save('/Users/jojotenya/Desktop/gensim/test.index')\n",
    "#index = similarities.MatrixSimilarity.load('/Users/jojotenya/Desktop/test.index')\n",
    "sims = index[vec_lsi] \n",
    "#print sims, type(sims)\n",
    "sims = sorted(enumerate(sims), key=lambda item: -item[1])\n"
   ]
  },
  {
   "cell_type": "code",
   "execution_count": null,
   "metadata": {
    "collapsed": false
   },
   "outputs": [],
   "source": [
    "from scipy import sparse\n",
    "corpus = [m for m in MyCorpus()]\n",
    "#print corpus\n",
    "print type(np.asarray(corpus))\n",
    "#print np.asarray(corpus)\n",
    "#print sparse.csr_matrix(corpus)\n",
    "'''from sklearn.feature_extraction.text import TfidfTransformer\n",
    "transformer = TfidfTransformer()\n",
    "tfidf = transformer.fit_transform(sparse.csr_matrix(np.asarray(corpus)))\n",
    "weight = tfidf.toarray()   '''"
   ]
  },
  {
   "cell_type": "code",
   "execution_count": null,
   "metadata": {
    "collapsed": false
   },
   "outputs": [],
   "source": [
    "#cosine similarity: tfidf version\n",
    "corpus = corpora.MmCorpus('/Users/jojotenya/Desktop/gensim/test.mm')\n",
    "tfidf = models.TfidfModel(corpus)\n",
    "corpus_tfidf = tfidf[corpus]\n",
    "cc=[c for c in corpus_tfidf]\n",
    "ccc=np.asarray(cc)\n",
    "#print ccc\n",
    "from scipy import sparse\n",
    "cccc=sparse.csr_matrix(ccc)\n",
    "print cccc\n",
    "from sklearn.metrics.pairwise import linear_kernel\n",
    "cosine_similarities = linear_kernel(cccc[0], cccc).flatten()\n",
    "\n",
    "dictionary=corpora.Dictionary.load('/Users/jojotenya/Desktop/gensim/test.dict')\n",
    "doc = \"美國 現任 以及 前總統 卡特 任內 兩位 財政部 助理部長\"\n",
    "vec_bow = dictionary.doc2bow(doc.split())\n",
    "#print (vec_bow)\n",
    "vec_ifidf = tfidf[vec_bow] # convert the query to LSI space\n",
    "index = similarities.MatrixSimilarity(tfidf[corpus])\n",
    "index.save('/Users/jojotenya/Desktop/gensim/test_tfidf.index')\n",
    "#index = similarities.MatrixSimilarity.load('/Users/jojotenya/Desktop/test.index')\n",
    "sims = index[vec_ifidf]\n",
    "#print sims\n",
    "sims = sorted(enumerate(sims), key=lambda item: -item[1])\n",
    "\n"
   ]
  },
  {
   "cell_type": "code",
   "execution_count": 34,
   "metadata": {
    "collapsed": false
   },
   "outputs": [
    {
     "name": "stdout",
     "output_type": "stream",
     "text": [
      "五月\n"
     ]
    }
   ],
   "source": [
    "print u'\\u4e94\\u6708'"
   ]
  }
 ],
 "metadata": {
  "kernelspec": {
   "display_name": "Python 2",
   "language": "python",
   "name": "python2"
  },
  "language_info": {
   "codemirror_mode": {
    "name": "ipython",
    "version": 2
   },
   "file_extension": ".py",
   "mimetype": "text/x-python",
   "name": "python",
   "nbconvert_exporter": "python",
   "pygments_lexer": "ipython2",
   "version": "2.7.9"
  }
 },
 "nbformat": 4,
 "nbformat_minor": 0
}
